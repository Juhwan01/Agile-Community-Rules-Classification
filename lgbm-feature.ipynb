{
 "cells": [
  {
   "cell_type": "code",
   "execution_count": 1,
   "id": "3117e412",
   "metadata": {
    "execution": {
     "iopub.execute_input": "2025-08-29T09:39:05.428589Z",
     "iopub.status.busy": "2025-08-29T09:39:05.428227Z",
     "iopub.status.idle": "2025-08-29T09:39:20.596890Z",
     "shell.execute_reply": "2025-08-29T09:39:20.595932Z"
    },
    "papermill": {
     "duration": 15.176926,
     "end_time": "2025-08-29T09:39:20.598461",
     "exception": false,
     "start_time": "2025-08-29T09:39:05.421535",
     "status": "completed"
    },
    "tags": []
   },
   "outputs": [],
   "source": [
    "import re\n",
    "import pandas as pd\n",
    "from sklearn.feature_extraction.text import TfidfVectorizer\n",
    "from sklearn.model_selection import train_test_split\n",
    "from sklearn.metrics import accuracy_score, f1_score\n",
    "from lightgbm import LGBMClassifier"
   ]
  },
  {
   "cell_type": "code",
   "execution_count": 2,
   "id": "84eac59b",
   "metadata": {
    "_cell_guid": "b1076dfc-b9ad-4769-8c92-a6c4dae69d19",
    "_uuid": "8f2839f25d086af736a60e9eeb907d3b93b6e0e5",
    "execution": {
     "iopub.execute_input": "2025-08-29T09:39:20.610514Z",
     "iopub.status.busy": "2025-08-29T09:39:20.609339Z",
     "iopub.status.idle": "2025-08-29T09:39:20.703188Z",
     "shell.execute_reply": "2025-08-29T09:39:20.702207Z"
    },
    "papermill": {
     "duration": 0.101304,
     "end_time": "2025-08-29T09:39:20.704939",
     "exception": false,
     "start_time": "2025-08-29T09:39:20.603635",
     "status": "completed"
    },
    "tags": []
   },
   "outputs": [],
   "source": [
    "train = pd.read_csv('/kaggle/input/jigsaw-agile-community-rules/train.csv')"
   ]
  },
  {
   "cell_type": "code",
   "execution_count": 3,
   "id": "5511f70c",
   "metadata": {
    "execution": {
     "iopub.execute_input": "2025-08-29T09:39:20.715571Z",
     "iopub.status.busy": "2025-08-29T09:39:20.715271Z",
     "iopub.status.idle": "2025-08-29T09:39:20.727016Z",
     "shell.execute_reply": "2025-08-29T09:39:20.726140Z"
    },
    "papermill": {
     "duration": 0.018891,
     "end_time": "2025-08-29T09:39:20.728704",
     "exception": false,
     "start_time": "2025-08-29T09:39:20.709813",
     "status": "completed"
    },
    "tags": []
   },
   "outputs": [],
   "source": [
    "test = pd.read_csv('/kaggle/input/jigsaw-agile-community-rules/test.csv')"
   ]
  },
  {
   "cell_type": "code",
   "execution_count": 4,
   "id": "c9051a71",
   "metadata": {
    "execution": {
     "iopub.execute_input": "2025-08-29T09:39:20.739521Z",
     "iopub.status.busy": "2025-08-29T09:39:20.739188Z",
     "iopub.status.idle": "2025-08-29T09:39:20.770291Z",
     "shell.execute_reply": "2025-08-29T09:39:20.769379Z"
    },
    "papermill": {
     "duration": 0.03812,
     "end_time": "2025-08-29T09:39:20.771724",
     "exception": false,
     "start_time": "2025-08-29T09:39:20.733604",
     "status": "completed"
    },
    "tags": []
   },
   "outputs": [
    {
     "data": {
      "text/html": [
       "<div>\n",
       "<style scoped>\n",
       "    .dataframe tbody tr th:only-of-type {\n",
       "        vertical-align: middle;\n",
       "    }\n",
       "\n",
       "    .dataframe tbody tr th {\n",
       "        vertical-align: top;\n",
       "    }\n",
       "\n",
       "    .dataframe thead th {\n",
       "        text-align: right;\n",
       "    }\n",
       "</style>\n",
       "<table border=\"1\" class=\"dataframe\">\n",
       "  <thead>\n",
       "    <tr style=\"text-align: right;\">\n",
       "      <th></th>\n",
       "      <th>row_id</th>\n",
       "      <th>body</th>\n",
       "      <th>rule</th>\n",
       "      <th>subreddit</th>\n",
       "      <th>positive_example_1</th>\n",
       "      <th>positive_example_2</th>\n",
       "      <th>negative_example_1</th>\n",
       "      <th>negative_example_2</th>\n",
       "    </tr>\n",
       "  </thead>\n",
       "  <tbody>\n",
       "    <tr>\n",
       "      <th>0</th>\n",
       "      <td>2029</td>\n",
       "      <td>NEW RAP GROUP 17. CHECK US OUT https://soundcl...</td>\n",
       "      <td>No Advertising: Spam, referral links, unsolici...</td>\n",
       "      <td>hiphopheads</td>\n",
       "      <td>Hey, guys, just wanted to drop in and invite y...</td>\n",
       "      <td>Cum Swallowing Hottie Katrina Kaif Cartoon Xvi...</td>\n",
       "      <td>SD Stream Eng - [Chelsea TV USA](http://soccer...</td>\n",
       "      <td>HD Streams: |[ENG HD Stoke vs Manchester Unite...</td>\n",
       "    </tr>\n",
       "    <tr>\n",
       "      <th>1</th>\n",
       "      <td>2030</td>\n",
       "      <td>Make your life comfortable. Get up to 15% Disc...</td>\n",
       "      <td>No legal advice: Do not offer or request legal...</td>\n",
       "      <td>AskReddit</td>\n",
       "      <td>Get a lawyer and get the security camera foota...</td>\n",
       "      <td>That isn't drastic. You tried reaching out to ...</td>\n",
       "      <td>So what are you going to do with the insurance...</td>\n",
       "      <td>It's just for Austria &amp; Germany. If you still ...</td>\n",
       "    </tr>\n",
       "    <tr>\n",
       "      <th>2</th>\n",
       "      <td>2031</td>\n",
       "      <td>Kickin' ass and selling underwear!\\nJust made ...</td>\n",
       "      <td>No Advertising: Spam, referral links, unsolici...</td>\n",
       "      <td>gonewild</td>\n",
       "      <td>Good story my friend. Check out my blog at  ht...</td>\n",
       "      <td>If you know what exactly you need then you don...</td>\n",
       "      <td>CENTIPEDES\\n\\nSOME BASED PATRIOTS HAVE CREATED...</td>\n",
       "      <td>[So great! Thanks for sharing.](http://www.che...</td>\n",
       "    </tr>\n",
       "    <tr>\n",
       "      <th>3</th>\n",
       "      <td>2032</td>\n",
       "      <td>watch  hooters  best  therein  http://clickan...</td>\n",
       "      <td>No Advertising: Spam, referral links, unsolici...</td>\n",
       "      <td>personalfinance</td>\n",
       "      <td>Earn 50,000 bonus points with Chase Sapphire P...</td>\n",
       "      <td>Cool, front page! I made this print along with...</td>\n",
       "      <td>[Full HD Movie Online Free](http://www.flickma...</td>\n",
       "      <td>* Karambit Black Pearl\\n* 0.02137822 Float (un...</td>\n",
       "    </tr>\n",
       "    <tr>\n",
       "      <th>4</th>\n",
       "      <td>2033</td>\n",
       "      <td>bitches  for free  at this point  show all  h...</td>\n",
       "      <td>No Advertising: Spam, referral links, unsolici...</td>\n",
       "      <td>Showerthoughts</td>\n",
       "      <td>code free tyrande ---&gt;&gt;&gt; [Imgur](http://i.imgu...</td>\n",
       "      <td>My trade link\\nhttps://steamcommunity.com/trad...</td>\n",
       "      <td>**HD** [ mio Stadium 102 HD](http://www.genti....</td>\n",
       "      <td>Infographics is an incredible method for showi...</td>\n",
       "    </tr>\n",
       "    <tr>\n",
       "      <th>5</th>\n",
       "      <td>2034</td>\n",
       "      <td>Top 10 Pentakills in August https://youtu.be/Z...</td>\n",
       "      <td>No Advertising: Spam, referral links, unsolici...</td>\n",
       "      <td>leagueoflegends</td>\n",
       "      <td>code free tyrande ---&gt;&gt;&gt; [Imgur](http://i.imgu...</td>\n",
       "      <td>see  tits  sweet  at this point  http://sh.or...</td>\n",
       "      <td>its my asreddit https://www.youtube.com/watch?...</td>\n",
       "      <td>click here for more videos[Russian mafia messe...</td>\n",
       "    </tr>\n",
       "    <tr>\n",
       "      <th>6</th>\n",
       "      <td>2035</td>\n",
       "      <td>WIN A SAMSUNG SMARTWATCH!\\n\\nhttp://www.innomd...</td>\n",
       "      <td>No Advertising: Spam, referral links, unsolici...</td>\n",
       "      <td>AskReddit</td>\n",
       "      <td>[ENJOY 50,000 BONUS POINTS after $4,000 spent ...</td>\n",
       "      <td>We have high quality Canadian Polymer banknote...</td>\n",
       "      <td>i was on the same ios and try this jailbreak m...</td>\n",
       "      <td>We're streaming Pokemon Veitnamese Crystal RIG...</td>\n",
       "    </tr>\n",
       "    <tr>\n",
       "      <th>7</th>\n",
       "      <td>2036</td>\n",
       "      <td>[This mixtape is lit FAM!](https://beholdthear...</td>\n",
       "      <td>No Advertising: Spam, referral links, unsolici...</td>\n",
       "      <td>BlackPeopleTwitter</td>\n",
       "      <td>watch good one hooters there http://https://x5...</td>\n",
       "      <td>bad pussies waiting for you herein http://gour...</td>\n",
       "      <td>[Full HD Movie Online Free](http://www.flickma...</td>\n",
       "      <td>* Computers :http://livematchstreamz.blogspot....</td>\n",
       "    </tr>\n",
       "    <tr>\n",
       "      <th>8</th>\n",
       "      <td>2037</td>\n",
       "      <td>must be watch movie https://sites.google.com/s...</td>\n",
       "      <td>No Advertising: Spam, referral links, unsolici...</td>\n",
       "      <td>movies</td>\n",
       "      <td>see  there  hooters  sweet  http://url.t.aylo...</td>\n",
       "      <td>Sign up with my link and get $1,000 of free pr...</td>\n",
       "      <td>The fact that there are pro and cons to everyt...</td>\n",
       "      <td>Oh that's interesting. You should check out my...</td>\n",
       "    </tr>\n",
       "    <tr>\n",
       "      <th>9</th>\n",
       "      <td>2038</td>\n",
       "      <td>Free paypal cards here!! https://www.pointspri...</td>\n",
       "      <td>No Advertising: Spam, referral links, unsolici...</td>\n",
       "      <td>pics</td>\n",
       "      <td>she will come your home open her legs with  an...</td>\n",
       "      <td>Old and young  your girl-next-door make sex wi...</td>\n",
       "      <td>i think  the conjuring 2 is not bad movie ,The...</td>\n",
       "      <td>wow, she's so beautyful\\n&gt;[Sakura Vietnam](htt...</td>\n",
       "    </tr>\n",
       "  </tbody>\n",
       "</table>\n",
       "</div>"
      ],
      "text/plain": [
       "   row_id                                               body  \\\n",
       "0    2029  NEW RAP GROUP 17. CHECK US OUT https://soundcl...   \n",
       "1    2030  Make your life comfortable. Get up to 15% Disc...   \n",
       "2    2031  Kickin' ass and selling underwear!\\nJust made ...   \n",
       "3    2032   watch  hooters  best  therein  http://clickan...   \n",
       "4    2033   bitches  for free  at this point  show all  h...   \n",
       "5    2034  Top 10 Pentakills in August https://youtu.be/Z...   \n",
       "6    2035  WIN A SAMSUNG SMARTWATCH!\\n\\nhttp://www.innomd...   \n",
       "7    2036  [This mixtape is lit FAM!](https://beholdthear...   \n",
       "8    2037  must be watch movie https://sites.google.com/s...   \n",
       "9    2038  Free paypal cards here!! https://www.pointspri...   \n",
       "\n",
       "                                                rule           subreddit  \\\n",
       "0  No Advertising: Spam, referral links, unsolici...         hiphopheads   \n",
       "1  No legal advice: Do not offer or request legal...           AskReddit   \n",
       "2  No Advertising: Spam, referral links, unsolici...            gonewild   \n",
       "3  No Advertising: Spam, referral links, unsolici...     personalfinance   \n",
       "4  No Advertising: Spam, referral links, unsolici...      Showerthoughts   \n",
       "5  No Advertising: Spam, referral links, unsolici...     leagueoflegends   \n",
       "6  No Advertising: Spam, referral links, unsolici...           AskReddit   \n",
       "7  No Advertising: Spam, referral links, unsolici...  BlackPeopleTwitter   \n",
       "8  No Advertising: Spam, referral links, unsolici...              movies   \n",
       "9  No Advertising: Spam, referral links, unsolici...                pics   \n",
       "\n",
       "                                  positive_example_1  \\\n",
       "0  Hey, guys, just wanted to drop in and invite y...   \n",
       "1  Get a lawyer and get the security camera foota...   \n",
       "2  Good story my friend. Check out my blog at  ht...   \n",
       "3  Earn 50,000 bonus points with Chase Sapphire P...   \n",
       "4  code free tyrande --->>> [Imgur](http://i.imgu...   \n",
       "5  code free tyrande --->>> [Imgur](http://i.imgu...   \n",
       "6  [ENJOY 50,000 BONUS POINTS after $4,000 spent ...   \n",
       "7  watch good one hooters there http://https://x5...   \n",
       "8   see  there  hooters  sweet  http://url.t.aylo...   \n",
       "9  she will come your home open her legs with  an...   \n",
       "\n",
       "                                  positive_example_2  \\\n",
       "0  Cum Swallowing Hottie Katrina Kaif Cartoon Xvi...   \n",
       "1  That isn't drastic. You tried reaching out to ...   \n",
       "2  If you know what exactly you need then you don...   \n",
       "3  Cool, front page! I made this print along with...   \n",
       "4  My trade link\\nhttps://steamcommunity.com/trad...   \n",
       "5   see  tits  sweet  at this point  http://sh.or...   \n",
       "6  We have high quality Canadian Polymer banknote...   \n",
       "7  bad pussies waiting for you herein http://gour...   \n",
       "8  Sign up with my link and get $1,000 of free pr...   \n",
       "9  Old and young  your girl-next-door make sex wi...   \n",
       "\n",
       "                                  negative_example_1  \\\n",
       "0  SD Stream Eng - [Chelsea TV USA](http://soccer...   \n",
       "1  So what are you going to do with the insurance...   \n",
       "2  CENTIPEDES\\n\\nSOME BASED PATRIOTS HAVE CREATED...   \n",
       "3  [Full HD Movie Online Free](http://www.flickma...   \n",
       "4  **HD** [ mio Stadium 102 HD](http://www.genti....   \n",
       "5  its my asreddit https://www.youtube.com/watch?...   \n",
       "6  i was on the same ios and try this jailbreak m...   \n",
       "7  [Full HD Movie Online Free](http://www.flickma...   \n",
       "8  The fact that there are pro and cons to everyt...   \n",
       "9  i think  the conjuring 2 is not bad movie ,The...   \n",
       "\n",
       "                                  negative_example_2  \n",
       "0  HD Streams: |[ENG HD Stoke vs Manchester Unite...  \n",
       "1  It's just for Austria & Germany. If you still ...  \n",
       "2  [So great! Thanks for sharing.](http://www.che...  \n",
       "3  * Karambit Black Pearl\\n* 0.02137822 Float (un...  \n",
       "4  Infographics is an incredible method for showi...  \n",
       "5  click here for more videos[Russian mafia messe...  \n",
       "6  We're streaming Pokemon Veitnamese Crystal RIG...  \n",
       "7  * Computers :http://livematchstreamz.blogspot....  \n",
       "8  Oh that's interesting. You should check out my...  \n",
       "9  wow, she's so beautyful\\n>[Sakura Vietnam](htt...  "
      ]
     },
     "execution_count": 4,
     "metadata": {},
     "output_type": "execute_result"
    }
   ],
   "source": [
    "test"
   ]
  },
  {
   "cell_type": "code",
   "execution_count": 5,
   "id": "9761768d",
   "metadata": {
    "execution": {
     "iopub.execute_input": "2025-08-29T09:39:20.783625Z",
     "iopub.status.busy": "2025-08-29T09:39:20.782774Z",
     "iopub.status.idle": "2025-08-29T09:39:20.795344Z",
     "shell.execute_reply": "2025-08-29T09:39:20.794446Z"
    },
    "papermill": {
     "duration": 0.01993,
     "end_time": "2025-08-29T09:39:20.796838",
     "exception": false,
     "start_time": "2025-08-29T09:39:20.776908",
     "status": "completed"
    },
    "tags": []
   },
   "outputs": [
    {
     "data": {
      "text/html": [
       "<div>\n",
       "<style scoped>\n",
       "    .dataframe tbody tr th:only-of-type {\n",
       "        vertical-align: middle;\n",
       "    }\n",
       "\n",
       "    .dataframe tbody tr th {\n",
       "        vertical-align: top;\n",
       "    }\n",
       "\n",
       "    .dataframe thead th {\n",
       "        text-align: right;\n",
       "    }\n",
       "</style>\n",
       "<table border=\"1\" class=\"dataframe\">\n",
       "  <thead>\n",
       "    <tr style=\"text-align: right;\">\n",
       "      <th></th>\n",
       "      <th>row_id</th>\n",
       "      <th>body</th>\n",
       "      <th>rule</th>\n",
       "      <th>subreddit</th>\n",
       "      <th>positive_example_1</th>\n",
       "      <th>positive_example_2</th>\n",
       "      <th>negative_example_1</th>\n",
       "      <th>negative_example_2</th>\n",
       "      <th>rule_violation</th>\n",
       "    </tr>\n",
       "  </thead>\n",
       "  <tbody>\n",
       "    <tr>\n",
       "      <th>0</th>\n",
       "      <td>0</td>\n",
       "      <td>Banks don't want you to know this! Click here ...</td>\n",
       "      <td>No Advertising: Spam, referral links, unsolici...</td>\n",
       "      <td>Futurology</td>\n",
       "      <td>If you could tell your younger self something ...</td>\n",
       "      <td>hunt for lady for jack off in neighbourhood ht...</td>\n",
       "      <td>Watch Golden Globe Awards 2017 Live Online in ...</td>\n",
       "      <td>DOUBLE CEE x BANDS EPPS - \"BIRDS\"\\n\\nDOWNLOAD/...</td>\n",
       "      <td>0</td>\n",
       "    </tr>\n",
       "    <tr>\n",
       "      <th>1</th>\n",
       "      <td>1</td>\n",
       "      <td>SD Stream [ ENG Link 1] (http://www.sportsstre...</td>\n",
       "      <td>No Advertising: Spam, referral links, unsolici...</td>\n",
       "      <td>soccerstreams</td>\n",
       "      <td>[I wanna kiss you all over! Stunning!](http://...</td>\n",
       "      <td>LOLGA.COM is One of the First Professional Onl...</td>\n",
       "      <td>#Rapper \\n🚨Straight Outta Cross Keys SC 🚨YouTu...</td>\n",
       "      <td>[15 Amazing Hidden Features Of Google Search Y...</td>\n",
       "      <td>0</td>\n",
       "    </tr>\n",
       "    <tr>\n",
       "      <th>2</th>\n",
       "      <td>2</td>\n",
       "      <td>Lol. Try appealing the ban and say you won't d...</td>\n",
       "      <td>No legal advice: Do not offer or request legal...</td>\n",
       "      <td>pcmasterrace</td>\n",
       "      <td>Don't break up with him or call the cops.  If ...</td>\n",
       "      <td>It'll be dismissed: https://en.wikipedia.org/w...</td>\n",
       "      <td>Where is there a site that still works where y...</td>\n",
       "      <td>Because this statement of his is true. It isn'...</td>\n",
       "      <td>1</td>\n",
       "    </tr>\n",
       "    <tr>\n",
       "      <th>3</th>\n",
       "      <td>3</td>\n",
       "      <td>she will come your home open her legs with  an...</td>\n",
       "      <td>No Advertising: Spam, referral links, unsolici...</td>\n",
       "      <td>sex</td>\n",
       "      <td>Selling Tyrande codes for 3€ to paypal. PM. \\n...</td>\n",
       "      <td>tight pussy watch for your cock get her at thi...</td>\n",
       "      <td>NSFW(obviously) http://spankbang.com/iy3u/vide...</td>\n",
       "      <td>Good News ::Download WhatsApp 2.16.230 APK for...</td>\n",
       "      <td>1</td>\n",
       "    </tr>\n",
       "    <tr>\n",
       "      <th>4</th>\n",
       "      <td>4</td>\n",
       "      <td>code free tyrande ---&gt;&gt;&gt; [Imgur](http://i.imgu...</td>\n",
       "      <td>No Advertising: Spam, referral links, unsolici...</td>\n",
       "      <td>hearthstone</td>\n",
       "      <td>wow!! amazing reminds me of the old days.Well...</td>\n",
       "      <td>seek for lady for sex in around http://p77.pl/...</td>\n",
       "      <td>must be watch movie https://sites.google.com/s...</td>\n",
       "      <td>We're streaming Pokemon Veitnamese Crystal RIG...</td>\n",
       "      <td>1</td>\n",
       "    </tr>\n",
       "  </tbody>\n",
       "</table>\n",
       "</div>"
      ],
      "text/plain": [
       "   row_id                                               body  \\\n",
       "0       0  Banks don't want you to know this! Click here ...   \n",
       "1       1  SD Stream [ ENG Link 1] (http://www.sportsstre...   \n",
       "2       2  Lol. Try appealing the ban and say you won't d...   \n",
       "3       3  she will come your home open her legs with  an...   \n",
       "4       4  code free tyrande --->>> [Imgur](http://i.imgu...   \n",
       "\n",
       "                                                rule      subreddit  \\\n",
       "0  No Advertising: Spam, referral links, unsolici...     Futurology   \n",
       "1  No Advertising: Spam, referral links, unsolici...  soccerstreams   \n",
       "2  No legal advice: Do not offer or request legal...   pcmasterrace   \n",
       "3  No Advertising: Spam, referral links, unsolici...            sex   \n",
       "4  No Advertising: Spam, referral links, unsolici...    hearthstone   \n",
       "\n",
       "                                  positive_example_1  \\\n",
       "0  If you could tell your younger self something ...   \n",
       "1  [I wanna kiss you all over! Stunning!](http://...   \n",
       "2  Don't break up with him or call the cops.  If ...   \n",
       "3  Selling Tyrande codes for 3€ to paypal. PM. \\n...   \n",
       "4   wow!! amazing reminds me of the old days.Well...   \n",
       "\n",
       "                                  positive_example_2  \\\n",
       "0  hunt for lady for jack off in neighbourhood ht...   \n",
       "1  LOLGA.COM is One of the First Professional Onl...   \n",
       "2  It'll be dismissed: https://en.wikipedia.org/w...   \n",
       "3  tight pussy watch for your cock get her at thi...   \n",
       "4  seek for lady for sex in around http://p77.pl/...   \n",
       "\n",
       "                                  negative_example_1  \\\n",
       "0  Watch Golden Globe Awards 2017 Live Online in ...   \n",
       "1  #Rapper \\n🚨Straight Outta Cross Keys SC 🚨YouTu...   \n",
       "2  Where is there a site that still works where y...   \n",
       "3  NSFW(obviously) http://spankbang.com/iy3u/vide...   \n",
       "4  must be watch movie https://sites.google.com/s...   \n",
       "\n",
       "                                  negative_example_2  rule_violation  \n",
       "0  DOUBLE CEE x BANDS EPPS - \"BIRDS\"\\n\\nDOWNLOAD/...               0  \n",
       "1  [15 Amazing Hidden Features Of Google Search Y...               0  \n",
       "2  Because this statement of his is true. It isn'...               1  \n",
       "3  Good News ::Download WhatsApp 2.16.230 APK for...               1  \n",
       "4  We're streaming Pokemon Veitnamese Crystal RIG...               1  "
      ]
     },
     "execution_count": 5,
     "metadata": {},
     "output_type": "execute_result"
    }
   ],
   "source": [
    "train.head()"
   ]
  },
  {
   "cell_type": "markdown",
   "id": "f6b4e644",
   "metadata": {
    "papermill": {
     "duration": 0.005162,
     "end_time": "2025-08-29T09:39:20.807587",
     "exception": false,
     "start_time": "2025-08-29T09:39:20.802425",
     "status": "completed"
    },
    "tags": []
   },
   "source": [
    "## 데이터 나누기"
   ]
  },
  {
   "cell_type": "code",
   "execution_count": 6,
   "id": "434b73b9",
   "metadata": {
    "execution": {
     "iopub.execute_input": "2025-08-29T09:39:20.819499Z",
     "iopub.status.busy": "2025-08-29T09:39:20.819166Z",
     "iopub.status.idle": "2025-08-29T09:39:20.824931Z",
     "shell.execute_reply": "2025-08-29T09:39:20.824094Z"
    },
    "papermill": {
     "duration": 0.013535,
     "end_time": "2025-08-29T09:39:20.826553",
     "exception": false,
     "start_time": "2025-08-29T09:39:20.813018",
     "status": "completed"
    },
    "tags": []
   },
   "outputs": [],
   "source": [
    "def df_pos_split(df):\n",
    "    positive_df1 = df['positive_example_1']\n",
    "    positive_df2 = df['positive_example_2']\n",
    "    \n",
    "    positive_df = pd.concat([positive_df1, positive_df2], ignore_index=True).to_frame(name=\"body\")\n",
    "    positive_df['target'] = 1\n",
    "\n",
    "    return positive_df"
   ]
  },
  {
   "cell_type": "code",
   "execution_count": 7,
   "id": "e3bea490",
   "metadata": {
    "execution": {
     "iopub.execute_input": "2025-08-29T09:39:20.839788Z",
     "iopub.status.busy": "2025-08-29T09:39:20.839423Z",
     "iopub.status.idle": "2025-08-29T09:39:20.844580Z",
     "shell.execute_reply": "2025-08-29T09:39:20.843715Z"
    },
    "papermill": {
     "duration": 0.014102,
     "end_time": "2025-08-29T09:39:20.846242",
     "exception": false,
     "start_time": "2025-08-29T09:39:20.832140",
     "status": "completed"
    },
    "tags": []
   },
   "outputs": [],
   "source": [
    "def df_neg_split(df):\n",
    "    negative_df1 = df['negative_example_1']\n",
    "    negative_df2 = df['negative_example_2']\n",
    "    \n",
    "    negative_df = pd.concat([negative_df1, negative_df2], ignore_index=True).to_frame(name=\"body\")\n",
    "    negative_df['target'] = 0\n",
    "    \n",
    "    return negative_df"
   ]
  },
  {
   "cell_type": "code",
   "execution_count": 8,
   "id": "f7be4b13",
   "metadata": {
    "execution": {
     "iopub.execute_input": "2025-08-29T09:39:20.858182Z",
     "iopub.status.busy": "2025-08-29T09:39:20.857849Z",
     "iopub.status.idle": "2025-08-29T09:39:20.868462Z",
     "shell.execute_reply": "2025-08-29T09:39:20.867505Z"
    },
    "papermill": {
     "duration": 0.018361,
     "end_time": "2025-08-29T09:39:20.870094",
     "exception": false,
     "start_time": "2025-08-29T09:39:20.851733",
     "status": "completed"
    },
    "tags": []
   },
   "outputs": [],
   "source": [
    "tr_df_pos = df_pos_split(train)\n",
    "tr_df_neg = df_neg_split(train)\n",
    "\n",
    "ts_df_pos = df_pos_split(test)\n",
    "ts_df_neg = df_neg_split(test)"
   ]
  },
  {
   "cell_type": "code",
   "execution_count": 9,
   "id": "3482ba63",
   "metadata": {
    "execution": {
     "iopub.execute_input": "2025-08-29T09:39:20.882347Z",
     "iopub.status.busy": "2025-08-29T09:39:20.882005Z",
     "iopub.status.idle": "2025-08-29T09:39:20.893576Z",
     "shell.execute_reply": "2025-08-29T09:39:20.892629Z"
    },
    "papermill": {
     "duration": 0.019529,
     "end_time": "2025-08-29T09:39:20.895248",
     "exception": false,
     "start_time": "2025-08-29T09:39:20.875719",
     "status": "completed"
    },
    "tags": []
   },
   "outputs": [
    {
     "data": {
      "text/html": [
       "<div>\n",
       "<style scoped>\n",
       "    .dataframe tbody tr th:only-of-type {\n",
       "        vertical-align: middle;\n",
       "    }\n",
       "\n",
       "    .dataframe tbody tr th {\n",
       "        vertical-align: top;\n",
       "    }\n",
       "\n",
       "    .dataframe thead th {\n",
       "        text-align: right;\n",
       "    }\n",
       "</style>\n",
       "<table border=\"1\" class=\"dataframe\">\n",
       "  <thead>\n",
       "    <tr style=\"text-align: right;\">\n",
       "      <th></th>\n",
       "      <th>body</th>\n",
       "      <th>target</th>\n",
       "    </tr>\n",
       "  </thead>\n",
       "  <tbody>\n",
       "    <tr>\n",
       "      <th>0</th>\n",
       "      <td>If you could tell your younger self something ...</td>\n",
       "      <td>1</td>\n",
       "    </tr>\n",
       "    <tr>\n",
       "      <th>1</th>\n",
       "      <td>[I wanna kiss you all over! Stunning!](http://...</td>\n",
       "      <td>1</td>\n",
       "    </tr>\n",
       "    <tr>\n",
       "      <th>2</th>\n",
       "      <td>Don't break up with him or call the cops.  If ...</td>\n",
       "      <td>1</td>\n",
       "    </tr>\n",
       "    <tr>\n",
       "      <th>3</th>\n",
       "      <td>Selling Tyrande codes for 3€ to paypal. PM. \\n...</td>\n",
       "      <td>1</td>\n",
       "    </tr>\n",
       "    <tr>\n",
       "      <th>4</th>\n",
       "      <td>wow!! amazing reminds me of the old days.Well...</td>\n",
       "      <td>1</td>\n",
       "    </tr>\n",
       "  </tbody>\n",
       "</table>\n",
       "</div>"
      ],
      "text/plain": [
       "                                                body  target\n",
       "0  If you could tell your younger self something ...       1\n",
       "1  [I wanna kiss you all over! Stunning!](http://...       1\n",
       "2  Don't break up with him or call the cops.  If ...       1\n",
       "3  Selling Tyrande codes for 3€ to paypal. PM. \\n...       1\n",
       "4   wow!! amazing reminds me of the old days.Well...       1"
      ]
     },
     "execution_count": 9,
     "metadata": {},
     "output_type": "execute_result"
    }
   ],
   "source": [
    "tr_df = pd.concat([tr_df_pos, tr_df_neg], ignore_index=True)\n",
    "ts_df = pd.concat([ts_df_pos, ts_df_neg], ignore_index=True)\n",
    "train_df = pd.concat([tr_df, ts_df], ignore_index=True)\n",
    "\n",
    "train_df.head()"
   ]
  },
  {
   "cell_type": "code",
   "execution_count": 10,
   "id": "6cad4107",
   "metadata": {
    "execution": {
     "iopub.execute_input": "2025-08-29T09:39:20.907795Z",
     "iopub.status.busy": "2025-08-29T09:39:20.907159Z",
     "iopub.status.idle": "2025-08-29T09:39:20.923484Z",
     "shell.execute_reply": "2025-08-29T09:39:20.922664Z"
    },
    "papermill": {
     "duration": 0.024006,
     "end_time": "2025-08-29T09:39:20.924891",
     "exception": false,
     "start_time": "2025-08-29T09:39:20.900885",
     "status": "completed"
    },
    "tags": []
   },
   "outputs": [
    {
     "data": {
      "text/html": [
       "<div>\n",
       "<style scoped>\n",
       "    .dataframe tbody tr th:only-of-type {\n",
       "        vertical-align: middle;\n",
       "    }\n",
       "\n",
       "    .dataframe tbody tr th {\n",
       "        vertical-align: top;\n",
       "    }\n",
       "\n",
       "    .dataframe thead th {\n",
       "        text-align: right;\n",
       "    }\n",
       "</style>\n",
       "<table border=\"1\" class=\"dataframe\">\n",
       "  <thead>\n",
       "    <tr style=\"text-align: right;\">\n",
       "      <th></th>\n",
       "      <th>body</th>\n",
       "      <th>target</th>\n",
       "    </tr>\n",
       "  </thead>\n",
       "  <tbody>\n",
       "    <tr>\n",
       "      <th>0</th>\n",
       "      <td>If you could tell your younger self something ...</td>\n",
       "      <td>1</td>\n",
       "    </tr>\n",
       "    <tr>\n",
       "      <th>1</th>\n",
       "      <td>[I wanna kiss you all over! Stunning!](http://...</td>\n",
       "      <td>1</td>\n",
       "    </tr>\n",
       "    <tr>\n",
       "      <th>2</th>\n",
       "      <td>Don't break up with him or call the cops.  If ...</td>\n",
       "      <td>1</td>\n",
       "    </tr>\n",
       "    <tr>\n",
       "      <th>3</th>\n",
       "      <td>Selling Tyrande codes for 3€ to paypal. PM. \\n...</td>\n",
       "      <td>1</td>\n",
       "    </tr>\n",
       "    <tr>\n",
       "      <th>4</th>\n",
       "      <td>wow!! amazing reminds me of the old days.Well...</td>\n",
       "      <td>1</td>\n",
       "    </tr>\n",
       "    <tr>\n",
       "      <th>...</th>\n",
       "      <td>...</td>\n",
       "      <td>...</td>\n",
       "    </tr>\n",
       "    <tr>\n",
       "      <th>8151</th>\n",
       "      <td>click here for more videos[Russian mafia messe...</td>\n",
       "      <td>0</td>\n",
       "    </tr>\n",
       "    <tr>\n",
       "      <th>8152</th>\n",
       "      <td>We're streaming Pokemon Veitnamese Crystal RIG...</td>\n",
       "      <td>0</td>\n",
       "    </tr>\n",
       "    <tr>\n",
       "      <th>8153</th>\n",
       "      <td>* Computers :http://livematchstreamz.blogspot....</td>\n",
       "      <td>0</td>\n",
       "    </tr>\n",
       "    <tr>\n",
       "      <th>8154</th>\n",
       "      <td>Oh that's interesting. You should check out my...</td>\n",
       "      <td>0</td>\n",
       "    </tr>\n",
       "    <tr>\n",
       "      <th>8155</th>\n",
       "      <td>wow, she's so beautyful\\n&gt;[Sakura Vietnam](htt...</td>\n",
       "      <td>0</td>\n",
       "    </tr>\n",
       "  </tbody>\n",
       "</table>\n",
       "<p>8156 rows × 2 columns</p>\n",
       "</div>"
      ],
      "text/plain": [
       "                                                   body  target\n",
       "0     If you could tell your younger self something ...       1\n",
       "1     [I wanna kiss you all over! Stunning!](http://...       1\n",
       "2     Don't break up with him or call the cops.  If ...       1\n",
       "3     Selling Tyrande codes for 3€ to paypal. PM. \\n...       1\n",
       "4      wow!! amazing reminds me of the old days.Well...       1\n",
       "...                                                 ...     ...\n",
       "8151  click here for more videos[Russian mafia messe...       0\n",
       "8152  We're streaming Pokemon Veitnamese Crystal RIG...       0\n",
       "8153  * Computers :http://livematchstreamz.blogspot....       0\n",
       "8154  Oh that's interesting. You should check out my...       0\n",
       "8155  wow, she's so beautyful\\n>[Sakura Vietnam](htt...       0\n",
       "\n",
       "[8156 rows x 2 columns]"
      ]
     },
     "execution_count": 10,
     "metadata": {},
     "output_type": "execute_result"
    }
   ],
   "source": [
    "train_df"
   ]
  },
  {
   "cell_type": "code",
   "execution_count": 11,
   "id": "b1668fc3",
   "metadata": {
    "execution": {
     "iopub.execute_input": "2025-08-29T09:39:20.937589Z",
     "iopub.status.busy": "2025-08-29T09:39:20.937273Z",
     "iopub.status.idle": "2025-08-29T09:39:20.951573Z",
     "shell.execute_reply": "2025-08-29T09:39:20.950840Z"
    },
    "papermill": {
     "duration": 0.022382,
     "end_time": "2025-08-29T09:39:20.953270",
     "exception": false,
     "start_time": "2025-08-29T09:39:20.930888",
     "status": "completed"
    },
    "tags": []
   },
   "outputs": [
    {
     "data": {
      "text/html": [
       "<div>\n",
       "<style scoped>\n",
       "    .dataframe tbody tr th:only-of-type {\n",
       "        vertical-align: middle;\n",
       "    }\n",
       "\n",
       "    .dataframe tbody tr th {\n",
       "        vertical-align: top;\n",
       "    }\n",
       "\n",
       "    .dataframe thead th {\n",
       "        text-align: right;\n",
       "    }\n",
       "</style>\n",
       "<table border=\"1\" class=\"dataframe\">\n",
       "  <thead>\n",
       "    <tr style=\"text-align: right;\">\n",
       "      <th></th>\n",
       "      <th>body</th>\n",
       "      <th>target</th>\n",
       "    </tr>\n",
       "  </thead>\n",
       "  <tbody>\n",
       "    <tr>\n",
       "      <th>0</th>\n",
       "      <td>Banks don't want you to know this! Click here ...</td>\n",
       "      <td>0</td>\n",
       "    </tr>\n",
       "    <tr>\n",
       "      <th>1</th>\n",
       "      <td>SD Stream [ ENG Link 1] (http://www.sportsstre...</td>\n",
       "      <td>0</td>\n",
       "    </tr>\n",
       "    <tr>\n",
       "      <th>2</th>\n",
       "      <td>Lol. Try appealing the ban and say you won't d...</td>\n",
       "      <td>1</td>\n",
       "    </tr>\n",
       "    <tr>\n",
       "      <th>3</th>\n",
       "      <td>she will come your home open her legs with  an...</td>\n",
       "      <td>1</td>\n",
       "    </tr>\n",
       "    <tr>\n",
       "      <th>4</th>\n",
       "      <td>code free tyrande ---&gt;&gt;&gt; [Imgur](http://i.imgu...</td>\n",
       "      <td>1</td>\n",
       "    </tr>\n",
       "    <tr>\n",
       "      <th>...</th>\n",
       "      <td>...</td>\n",
       "      <td>...</td>\n",
       "    </tr>\n",
       "    <tr>\n",
       "      <th>2024</th>\n",
       "      <td>Please edit your post so it is readable. These...</td>\n",
       "      <td>1</td>\n",
       "    </tr>\n",
       "    <tr>\n",
       "      <th>2025</th>\n",
       "      <td>Yes, and in a right to work state they can eve...</td>\n",
       "      <td>0</td>\n",
       "    </tr>\n",
       "    <tr>\n",
       "      <th>2026</th>\n",
       "      <td>**HD** Streams: |ENG **HD**[ Watch here..PC &amp; ...</td>\n",
       "      <td>1</td>\n",
       "    </tr>\n",
       "    <tr>\n",
       "      <th>2027</th>\n",
       "      <td>No. Not when doing so obviously presents a saf...</td>\n",
       "      <td>1</td>\n",
       "    </tr>\n",
       "    <tr>\n",
       "      <th>2028</th>\n",
       "      <td>&gt; CA is an at fault state so they will not be ...</td>\n",
       "      <td>1</td>\n",
       "    </tr>\n",
       "  </tbody>\n",
       "</table>\n",
       "<p>2029 rows × 2 columns</p>\n",
       "</div>"
      ],
      "text/plain": [
       "                                                   body  target\n",
       "0     Banks don't want you to know this! Click here ...       0\n",
       "1     SD Stream [ ENG Link 1] (http://www.sportsstre...       0\n",
       "2     Lol. Try appealing the ban and say you won't d...       1\n",
       "3     she will come your home open her legs with  an...       1\n",
       "4     code free tyrande --->>> [Imgur](http://i.imgu...       1\n",
       "...                                                 ...     ...\n",
       "2024  Please edit your post so it is readable. These...       1\n",
       "2025  Yes, and in a right to work state they can eve...       0\n",
       "2026  **HD** Streams: |ENG **HD**[ Watch here..PC & ...       1\n",
       "2027  No. Not when doing so obviously presents a saf...       1\n",
       "2028  > CA is an at fault state so they will not be ...       1\n",
       "\n",
       "[2029 rows x 2 columns]"
      ]
     },
     "execution_count": 11,
     "metadata": {},
     "output_type": "execute_result"
    }
   ],
   "source": [
    "t_df = train[['body', 'rule_violation']]\n",
    "t_df = t_df.rename(columns={\n",
    "    'rule_violation': 'target'\n",
    "})\n",
    "t_df"
   ]
  },
  {
   "cell_type": "code",
   "execution_count": 12,
   "id": "a32c88ee",
   "metadata": {
    "execution": {
     "iopub.execute_input": "2025-08-29T09:39:20.966869Z",
     "iopub.status.busy": "2025-08-29T09:39:20.966022Z",
     "iopub.status.idle": "2025-08-29T09:39:20.977209Z",
     "shell.execute_reply": "2025-08-29T09:39:20.976208Z"
    },
    "papermill": {
     "duration": 0.019405,
     "end_time": "2025-08-29T09:39:20.978737",
     "exception": false,
     "start_time": "2025-08-29T09:39:20.959332",
     "status": "completed"
    },
    "tags": []
   },
   "outputs": [
    {
     "data": {
      "text/html": [
       "<div>\n",
       "<style scoped>\n",
       "    .dataframe tbody tr th:only-of-type {\n",
       "        vertical-align: middle;\n",
       "    }\n",
       "\n",
       "    .dataframe tbody tr th {\n",
       "        vertical-align: top;\n",
       "    }\n",
       "\n",
       "    .dataframe thead th {\n",
       "        text-align: right;\n",
       "    }\n",
       "</style>\n",
       "<table border=\"1\" class=\"dataframe\">\n",
       "  <thead>\n",
       "    <tr style=\"text-align: right;\">\n",
       "      <th></th>\n",
       "      <th>body</th>\n",
       "      <th>target</th>\n",
       "    </tr>\n",
       "  </thead>\n",
       "  <tbody>\n",
       "    <tr>\n",
       "      <th>0</th>\n",
       "      <td>If you could tell your younger self something ...</td>\n",
       "      <td>1</td>\n",
       "    </tr>\n",
       "    <tr>\n",
       "      <th>1</th>\n",
       "      <td>[I wanna kiss you all over! Stunning!](http://...</td>\n",
       "      <td>1</td>\n",
       "    </tr>\n",
       "    <tr>\n",
       "      <th>2</th>\n",
       "      <td>Don't break up with him or call the cops.  If ...</td>\n",
       "      <td>1</td>\n",
       "    </tr>\n",
       "    <tr>\n",
       "      <th>3</th>\n",
       "      <td>Selling Tyrande codes for 3€ to paypal. PM. \\n...</td>\n",
       "      <td>1</td>\n",
       "    </tr>\n",
       "    <tr>\n",
       "      <th>4</th>\n",
       "      <td>wow!! amazing reminds me of the old days.Well...</td>\n",
       "      <td>1</td>\n",
       "    </tr>\n",
       "    <tr>\n",
       "      <th>...</th>\n",
       "      <td>...</td>\n",
       "      <td>...</td>\n",
       "    </tr>\n",
       "    <tr>\n",
       "      <th>10180</th>\n",
       "      <td>Please edit your post so it is readable. These...</td>\n",
       "      <td>1</td>\n",
       "    </tr>\n",
       "    <tr>\n",
       "      <th>10181</th>\n",
       "      <td>Yes, and in a right to work state they can eve...</td>\n",
       "      <td>0</td>\n",
       "    </tr>\n",
       "    <tr>\n",
       "      <th>10182</th>\n",
       "      <td>**HD** Streams: |ENG **HD**[ Watch here..PC &amp; ...</td>\n",
       "      <td>1</td>\n",
       "    </tr>\n",
       "    <tr>\n",
       "      <th>10183</th>\n",
       "      <td>No. Not when doing so obviously presents a saf...</td>\n",
       "      <td>1</td>\n",
       "    </tr>\n",
       "    <tr>\n",
       "      <th>10184</th>\n",
       "      <td>&gt; CA is an at fault state so they will not be ...</td>\n",
       "      <td>1</td>\n",
       "    </tr>\n",
       "  </tbody>\n",
       "</table>\n",
       "<p>10185 rows × 2 columns</p>\n",
       "</div>"
      ],
      "text/plain": [
       "                                                    body  target\n",
       "0      If you could tell your younger self something ...       1\n",
       "1      [I wanna kiss you all over! Stunning!](http://...       1\n",
       "2      Don't break up with him or call the cops.  If ...       1\n",
       "3      Selling Tyrande codes for 3€ to paypal. PM. \\n...       1\n",
       "4       wow!! amazing reminds me of the old days.Well...       1\n",
       "...                                                  ...     ...\n",
       "10180  Please edit your post so it is readable. These...       1\n",
       "10181  Yes, and in a right to work state they can eve...       0\n",
       "10182  **HD** Streams: |ENG **HD**[ Watch here..PC & ...       1\n",
       "10183  No. Not when doing so obviously presents a saf...       1\n",
       "10184  > CA is an at fault state so they will not be ...       1\n",
       "\n",
       "[10185 rows x 2 columns]"
      ]
     },
     "execution_count": 12,
     "metadata": {},
     "output_type": "execute_result"
    }
   ],
   "source": [
    "train_df = pd.concat([train_df, t_df], ignore_index=True)\n",
    "train_df"
   ]
  },
  {
   "cell_type": "code",
   "execution_count": 13,
   "id": "7b60a763",
   "metadata": {
    "execution": {
     "iopub.execute_input": "2025-08-29T09:39:20.992728Z",
     "iopub.status.busy": "2025-08-29T09:39:20.992390Z",
     "iopub.status.idle": "2025-08-29T09:39:21.179669Z",
     "shell.execute_reply": "2025-08-29T09:39:21.178676Z"
    },
    "papermill": {
     "duration": 0.196338,
     "end_time": "2025-08-29T09:39:21.181533",
     "exception": false,
     "start_time": "2025-08-29T09:39:20.985195",
     "status": "completed"
    },
    "tags": []
   },
   "outputs": [],
   "source": [
    "def clean_text(text):\n",
    "    text = str(text).lower()\n",
    "    text = re.sub(r\"http\\S+\", \" \", text)       # URL 제거\n",
    "    text = re.sub(r\"[^a-zA-Z\\s]\", \" \", text)   # 알파벳 외 제거 (한국어면 따로 tokenizer 필요)\n",
    "    text = re.sub(r\"\\s+\", \" \", text).strip()   # 공백 정리\n",
    "    return text\n",
    "\n",
    "train_df[\"body_clean\"] = train_df[\"body\"].apply(clean_text)"
   ]
  },
  {
   "cell_type": "code",
   "execution_count": 14,
   "id": "ba3c5231",
   "metadata": {
    "execution": {
     "iopub.execute_input": "2025-08-29T09:39:21.195744Z",
     "iopub.status.busy": "2025-08-29T09:39:21.194844Z",
     "iopub.status.idle": "2025-08-29T09:39:21.592832Z",
     "shell.execute_reply": "2025-08-29T09:39:21.591844Z"
    },
    "papermill": {
     "duration": 0.406917,
     "end_time": "2025-08-29T09:39:21.594693",
     "exception": false,
     "start_time": "2025-08-29T09:39:21.187776",
     "status": "completed"
    },
    "tags": []
   },
   "outputs": [],
   "source": [
    "vectorizer = TfidfVectorizer(\n",
    "    max_features=5000,      # 상위 5000 단어\n",
    "    ngram_range=(1,2),      # unigram + bigram\n",
    "    stop_words=\"english\"    # 불용어 제거 (한국어면 따로 stopwords 설정)\n",
    ")\n",
    "X = vectorizer.fit_transform(train_df[\"body_clean\"])"
   ]
  },
  {
   "cell_type": "code",
   "execution_count": 15,
   "id": "3083dcad",
   "metadata": {
    "execution": {
     "iopub.execute_input": "2025-08-29T09:39:21.611916Z",
     "iopub.status.busy": "2025-08-29T09:39:21.611078Z",
     "iopub.status.idle": "2025-08-29T09:39:21.615614Z",
     "shell.execute_reply": "2025-08-29T09:39:21.614786Z"
    },
    "papermill": {
     "duration": 0.013555,
     "end_time": "2025-08-29T09:39:21.617229",
     "exception": false,
     "start_time": "2025-08-29T09:39:21.603674",
     "status": "completed"
    },
    "tags": []
   },
   "outputs": [],
   "source": [
    "y = train_df[\"target\"]"
   ]
  },
  {
   "cell_type": "code",
   "execution_count": 16,
   "id": "9c593921",
   "metadata": {
    "execution": {
     "iopub.execute_input": "2025-08-29T09:39:21.631259Z",
     "iopub.status.busy": "2025-08-29T09:39:21.630591Z",
     "iopub.status.idle": "2025-08-29T09:39:25.066204Z",
     "shell.execute_reply": "2025-08-29T09:39:25.065241Z"
    },
    "papermill": {
     "duration": 3.444161,
     "end_time": "2025-08-29T09:39:25.067718",
     "exception": false,
     "start_time": "2025-08-29T09:39:21.623557",
     "status": "completed"
    },
    "tags": []
   },
   "outputs": [
    {
     "name": "stdout",
     "output_type": "stream",
     "text": [
      "[LightGBM] [Info] Number of positive: 5109, number of negative: 5076\n",
      "[LightGBM] [Info] Auto-choosing col-wise multi-threading, the overhead of testing was 0.077980 seconds.\n",
      "You can set `force_col_wise=true` to remove the overhead.\n",
      "[LightGBM] [Info] Total Bins 11894\n",
      "[LightGBM] [Info] Number of data points in the train set: 10185, number of used features: 1787\n",
      "[LightGBM] [Info] [binary:BoostFromScore]: pavg=0.500000 -> initscore=-0.000000\n",
      "[LightGBM] [Info] Start training from score -0.000000\n"
     ]
    },
    {
     "data": {
      "text/html": [
       "<style>#sk-container-id-1 {color: black;background-color: white;}#sk-container-id-1 pre{padding: 0;}#sk-container-id-1 div.sk-toggleable {background-color: white;}#sk-container-id-1 label.sk-toggleable__label {cursor: pointer;display: block;width: 100%;margin-bottom: 0;padding: 0.3em;box-sizing: border-box;text-align: center;}#sk-container-id-1 label.sk-toggleable__label-arrow:before {content: \"▸\";float: left;margin-right: 0.25em;color: #696969;}#sk-container-id-1 label.sk-toggleable__label-arrow:hover:before {color: black;}#sk-container-id-1 div.sk-estimator:hover label.sk-toggleable__label-arrow:before {color: black;}#sk-container-id-1 div.sk-toggleable__content {max-height: 0;max-width: 0;overflow: hidden;text-align: left;background-color: #f0f8ff;}#sk-container-id-1 div.sk-toggleable__content pre {margin: 0.2em;color: black;border-radius: 0.25em;background-color: #f0f8ff;}#sk-container-id-1 input.sk-toggleable__control:checked~div.sk-toggleable__content {max-height: 200px;max-width: 100%;overflow: auto;}#sk-container-id-1 input.sk-toggleable__control:checked~label.sk-toggleable__label-arrow:before {content: \"▾\";}#sk-container-id-1 div.sk-estimator input.sk-toggleable__control:checked~label.sk-toggleable__label {background-color: #d4ebff;}#sk-container-id-1 div.sk-label input.sk-toggleable__control:checked~label.sk-toggleable__label {background-color: #d4ebff;}#sk-container-id-1 input.sk-hidden--visually {border: 0;clip: rect(1px 1px 1px 1px);clip: rect(1px, 1px, 1px, 1px);height: 1px;margin: -1px;overflow: hidden;padding: 0;position: absolute;width: 1px;}#sk-container-id-1 div.sk-estimator {font-family: monospace;background-color: #f0f8ff;border: 1px dotted black;border-radius: 0.25em;box-sizing: border-box;margin-bottom: 0.5em;}#sk-container-id-1 div.sk-estimator:hover {background-color: #d4ebff;}#sk-container-id-1 div.sk-parallel-item::after {content: \"\";width: 100%;border-bottom: 1px solid gray;flex-grow: 1;}#sk-container-id-1 div.sk-label:hover label.sk-toggleable__label {background-color: #d4ebff;}#sk-container-id-1 div.sk-serial::before {content: \"\";position: absolute;border-left: 1px solid gray;box-sizing: border-box;top: 0;bottom: 0;left: 50%;z-index: 0;}#sk-container-id-1 div.sk-serial {display: flex;flex-direction: column;align-items: center;background-color: white;padding-right: 0.2em;padding-left: 0.2em;position: relative;}#sk-container-id-1 div.sk-item {position: relative;z-index: 1;}#sk-container-id-1 div.sk-parallel {display: flex;align-items: stretch;justify-content: center;background-color: white;position: relative;}#sk-container-id-1 div.sk-item::before, #sk-container-id-1 div.sk-parallel-item::before {content: \"\";position: absolute;border-left: 1px solid gray;box-sizing: border-box;top: 0;bottom: 0;left: 50%;z-index: -1;}#sk-container-id-1 div.sk-parallel-item {display: flex;flex-direction: column;z-index: 1;position: relative;background-color: white;}#sk-container-id-1 div.sk-parallel-item:first-child::after {align-self: flex-end;width: 50%;}#sk-container-id-1 div.sk-parallel-item:last-child::after {align-self: flex-start;width: 50%;}#sk-container-id-1 div.sk-parallel-item:only-child::after {width: 0;}#sk-container-id-1 div.sk-dashed-wrapped {border: 1px dashed gray;margin: 0 0.4em 0.5em 0.4em;box-sizing: border-box;padding-bottom: 0.4em;background-color: white;}#sk-container-id-1 div.sk-label label {font-family: monospace;font-weight: bold;display: inline-block;line-height: 1.2em;}#sk-container-id-1 div.sk-label-container {text-align: center;}#sk-container-id-1 div.sk-container {/* jupyter's `normalize.less` sets `[hidden] { display: none; }` but bootstrap.min.css set `[hidden] { display: none !important; }` so we also need the `!important` here to be able to override the default hidden behavior on the sphinx rendered scikit-learn.org. See: https://github.com/scikit-learn/scikit-learn/issues/21755 */display: inline-block !important;position: relative;}#sk-container-id-1 div.sk-text-repr-fallback {display: none;}</style><div id=\"sk-container-id-1\" class=\"sk-top-container\"><div class=\"sk-text-repr-fallback\"><pre>LGBMClassifier(class_weight=&#x27;balanced&#x27;, learning_rate=0.05, n_estimators=500,\n",
       "               random_state=42)</pre><b>In a Jupyter environment, please rerun this cell to show the HTML representation or trust the notebook. <br />On GitHub, the HTML representation is unable to render, please try loading this page with nbviewer.org.</b></div><div class=\"sk-container\" hidden><div class=\"sk-item\"><div class=\"sk-estimator sk-toggleable\"><input class=\"sk-toggleable__control sk-hidden--visually\" id=\"sk-estimator-id-1\" type=\"checkbox\" checked><label for=\"sk-estimator-id-1\" class=\"sk-toggleable__label sk-toggleable__label-arrow\">LGBMClassifier</label><div class=\"sk-toggleable__content\"><pre>LGBMClassifier(class_weight=&#x27;balanced&#x27;, learning_rate=0.05, n_estimators=500,\n",
       "               random_state=42)</pre></div></div></div></div></div>"
      ],
      "text/plain": [
       "LGBMClassifier(class_weight='balanced', learning_rate=0.05, n_estimators=500,\n",
       "               random_state=42)"
      ]
     },
     "execution_count": 16,
     "metadata": {},
     "output_type": "execute_result"
    }
   ],
   "source": [
    "lgbm = LGBMClassifier(\n",
    "    n_estimators=500,\n",
    "    learning_rate=0.05,\n",
    "    max_depth=-1,\n",
    "    random_state=42,\n",
    "    class_weight=\"balanced\"\n",
    ")\n",
    "\n",
    "lgbm.fit(X, y)"
   ]
  },
  {
   "cell_type": "code",
   "execution_count": 17,
   "id": "69cca039",
   "metadata": {
    "execution": {
     "iopub.execute_input": "2025-08-29T09:39:25.082042Z",
     "iopub.status.busy": "2025-08-29T09:39:25.081737Z",
     "iopub.status.idle": "2025-08-29T09:39:25.087465Z",
     "shell.execute_reply": "2025-08-29T09:39:25.086495Z"
    },
    "papermill": {
     "duration": 0.014426,
     "end_time": "2025-08-29T09:39:25.088944",
     "exception": false,
     "start_time": "2025-08-29T09:39:25.074518",
     "status": "completed"
    },
    "tags": []
   },
   "outputs": [],
   "source": [
    "test[\"body_clean\"] = test[\"body\"].apply(clean_text)"
   ]
  },
  {
   "cell_type": "code",
   "execution_count": 18,
   "id": "2878bf8a",
   "metadata": {
    "execution": {
     "iopub.execute_input": "2025-08-29T09:39:25.103248Z",
     "iopub.status.busy": "2025-08-29T09:39:25.102872Z",
     "iopub.status.idle": "2025-08-29T09:39:25.109455Z",
     "shell.execute_reply": "2025-08-29T09:39:25.108703Z"
    },
    "papermill": {
     "duration": 0.015284,
     "end_time": "2025-08-29T09:39:25.110874",
     "exception": false,
     "start_time": "2025-08-29T09:39:25.095590",
     "status": "completed"
    },
    "tags": []
   },
   "outputs": [],
   "source": [
    "X_test = vectorizer.transform(test[\"body_clean\"])"
   ]
  },
  {
   "cell_type": "code",
   "execution_count": 19,
   "id": "8ff2a0b1",
   "metadata": {
    "execution": {
     "iopub.execute_input": "2025-08-29T09:39:25.125851Z",
     "iopub.status.busy": "2025-08-29T09:39:25.125183Z",
     "iopub.status.idle": "2025-08-29T09:39:25.131169Z",
     "shell.execute_reply": "2025-08-29T09:39:25.130405Z"
    },
    "papermill": {
     "duration": 0.015012,
     "end_time": "2025-08-29T09:39:25.132590",
     "exception": false,
     "start_time": "2025-08-29T09:39:25.117578",
     "status": "completed"
    },
    "tags": []
   },
   "outputs": [],
   "source": [
    "test_pred = lgbm.predict_proba(X_test)[:, 1]"
   ]
  },
  {
   "cell_type": "code",
   "execution_count": 20,
   "id": "34de5ef9",
   "metadata": {
    "execution": {
     "iopub.execute_input": "2025-08-29T09:39:25.146772Z",
     "iopub.status.busy": "2025-08-29T09:39:25.146185Z",
     "iopub.status.idle": "2025-08-29T09:39:25.151980Z",
     "shell.execute_reply": "2025-08-29T09:39:25.151211Z"
    },
    "papermill": {
     "duration": 0.014288,
     "end_time": "2025-08-29T09:39:25.153367",
     "exception": false,
     "start_time": "2025-08-29T09:39:25.139079",
     "status": "completed"
    },
    "tags": []
   },
   "outputs": [
    {
     "data": {
      "text/plain": [
       "array([0.07646699, 0.50352367, 0.9953719 , 0.99787073, 0.9834361 ,\n",
       "       0.0264477 , 0.95496491, 0.16329004, 0.02050146, 0.96546213])"
      ]
     },
     "execution_count": 20,
     "metadata": {},
     "output_type": "execute_result"
    }
   ],
   "source": [
    "test_pred"
   ]
  },
  {
   "cell_type": "code",
   "execution_count": 21,
   "id": "1f9eb41e",
   "metadata": {
    "execution": {
     "iopub.execute_input": "2025-08-29T09:39:25.168065Z",
     "iopub.status.busy": "2025-08-29T09:39:25.167315Z",
     "iopub.status.idle": "2025-08-29T09:39:25.179256Z",
     "shell.execute_reply": "2025-08-29T09:39:25.178469Z"
    },
    "papermill": {
     "duration": 0.020658,
     "end_time": "2025-08-29T09:39:25.180749",
     "exception": false,
     "start_time": "2025-08-29T09:39:25.160091",
     "status": "completed"
    },
    "tags": []
   },
   "outputs": [],
   "source": [
    "submission_df = pd.DataFrame({'row_id': test['row_id'], 'rule_violation': test_pred})\n",
    "submission_df.to_csv('submission.csv', index=False)"
   ]
  },
  {
   "cell_type": "code",
   "execution_count": null,
   "id": "19ccd46a",
   "metadata": {
    "papermill": {
     "duration": 0.006244,
     "end_time": "2025-08-29T09:39:25.193563",
     "exception": false,
     "start_time": "2025-08-29T09:39:25.187319",
     "status": "completed"
    },
    "tags": []
   },
   "outputs": [],
   "source": []
  }
 ],
 "metadata": {
  "kaggle": {
   "accelerator": "none",
   "dataSources": [
    {
     "databundleVersionId": 13121456,
     "sourceId": 94635,
     "sourceType": "competition"
    }
   ],
   "dockerImageVersionId": 31089,
   "isGpuEnabled": false,
   "isInternetEnabled": false,
   "language": "python",
   "sourceType": "notebook"
  },
  "kernelspec": {
   "display_name": "Python 3",
   "language": "python",
   "name": "python3"
  },
  "language_info": {
   "codemirror_mode": {
    "name": "ipython",
    "version": 3
   },
   "file_extension": ".py",
   "mimetype": "text/x-python",
   "name": "python",
   "nbconvert_exporter": "python",
   "pygments_lexer": "ipython3",
   "version": "3.11.13"
  },
  "papermill": {
   "default_parameters": {},
   "duration": 28.755503,
   "end_time": "2025-08-29T09:39:26.121851",
   "environment_variables": {},
   "exception": null,
   "input_path": "__notebook__.ipynb",
   "output_path": "__notebook__.ipynb",
   "parameters": {},
   "start_time": "2025-08-29T09:38:57.366348",
   "version": "2.6.0"
  }
 },
 "nbformat": 4,
 "nbformat_minor": 5
}
